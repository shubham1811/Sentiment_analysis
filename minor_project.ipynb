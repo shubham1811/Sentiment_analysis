{
 "cells": [
  {
   "cell_type": "code",
   "execution_count": 1,
   "metadata": {},
   "outputs": [],
   "source": [
    "import pandas as pd\n",
    "import numpy as np\n",
    "from sklearn.model_selection import train_test_split\n",
    "import re"
   ]
  },
  {
   "cell_type": "code",
   "execution_count": 2,
   "metadata": {},
   "outputs": [],
   "source": [
    "#importing library of Machine learning \n",
    "from sklearn.linear_model import LogisticRegression as lr\n",
    "from sklearn.metrics import confusion_matrix\n",
    "from sklearn.metrics import accuracy_score\n",
    "from sklearn.metrics import roc_auc_score\n",
    "from sklearn.metrics import f1_score\n",
    "from sklearn.metrics import precision_score\n",
    "from sklearn.metrics import recall_score"
   ]
  },
  {
   "cell_type": "code",
   "execution_count": 3,
   "metadata": {},
   "outputs": [],
   "source": [
    "# Importing the library of NLP\n",
    "from nltk.corpus import stopwords\n",
    "from string import punctuation\n",
    "from nltk.stem import WordNetLemmatizer\n",
    "from nltk.tokenize import word_tokenize"
   ]
  },
  {
   "cell_type": "code",
   "execution_count": 4,
   "metadata": {},
   "outputs": [],
   "source": [
    "#importing the library for the Bag of words\n",
    "from sklearn.feature_extraction.text import CountVectorizer\n",
    "from sklearn.feature_extraction.text import TfidfVectorizer"
   ]
  },
  {
   "cell_type": "code",
   "execution_count": 5,
   "metadata": {},
   "outputs": [],
   "source": [
    "#For Reading the Data \n",
    "data=pd.read_csv('data_review.csv')"
   ]
  },
  {
   "cell_type": "code",
   "execution_count": 6,
   "metadata": {},
   "outputs": [
    {
     "data": {
      "text/html": [
       "<div>\n",
       "<style scoped>\n",
       "    .dataframe tbody tr th:only-of-type {\n",
       "        vertical-align: middle;\n",
       "    }\n",
       "\n",
       "    .dataframe tbody tr th {\n",
       "        vertical-align: top;\n",
       "    }\n",
       "\n",
       "    .dataframe thead th {\n",
       "        text-align: right;\n",
       "    }\n",
       "</style>\n",
       "<table border=\"1\" class=\"dataframe\">\n",
       "  <thead>\n",
       "    <tr style=\"text-align: right;\">\n",
       "      <th></th>\n",
       "      <th>Product Name</th>\n",
       "      <th>Brand Name</th>\n",
       "      <th>Price</th>\n",
       "      <th>Rating</th>\n",
       "      <th>Reviews</th>\n",
       "      <th>Review Votes</th>\n",
       "    </tr>\n",
       "  </thead>\n",
       "  <tbody>\n",
       "    <tr>\n",
       "      <th>0</th>\n",
       "      <td>\"CLEAR CLEAN ESN\" Sprint EPIC 4G Galaxy SPH-D7...</td>\n",
       "      <td>Samsung</td>\n",
       "      <td>199.99</td>\n",
       "      <td>5</td>\n",
       "      <td>I feel so LUCKY to have found this used (phone...</td>\n",
       "      <td>1.0</td>\n",
       "    </tr>\n",
       "    <tr>\n",
       "      <th>1</th>\n",
       "      <td>\"CLEAR CLEAN ESN\" Sprint EPIC 4G Galaxy SPH-D7...</td>\n",
       "      <td>Samsung</td>\n",
       "      <td>199.99</td>\n",
       "      <td>4</td>\n",
       "      <td>nice phone, nice up grade from my pantach revu...</td>\n",
       "      <td>0.0</td>\n",
       "    </tr>\n",
       "    <tr>\n",
       "      <th>2</th>\n",
       "      <td>\"CLEAR CLEAN ESN\" Sprint EPIC 4G Galaxy SPH-D7...</td>\n",
       "      <td>Samsung</td>\n",
       "      <td>199.99</td>\n",
       "      <td>5</td>\n",
       "      <td>Very pleased</td>\n",
       "      <td>0.0</td>\n",
       "    </tr>\n",
       "    <tr>\n",
       "      <th>3</th>\n",
       "      <td>\"CLEAR CLEAN ESN\" Sprint EPIC 4G Galaxy SPH-D7...</td>\n",
       "      <td>Samsung</td>\n",
       "      <td>199.99</td>\n",
       "      <td>4</td>\n",
       "      <td>It works good but it goes slow sometimes but i...</td>\n",
       "      <td>0.0</td>\n",
       "    </tr>\n",
       "    <tr>\n",
       "      <th>4</th>\n",
       "      <td>\"CLEAR CLEAN ESN\" Sprint EPIC 4G Galaxy SPH-D7...</td>\n",
       "      <td>Samsung</td>\n",
       "      <td>199.99</td>\n",
       "      <td>4</td>\n",
       "      <td>Great phone to replace my lost phone. The only...</td>\n",
       "      <td>0.0</td>\n",
       "    </tr>\n",
       "  </tbody>\n",
       "</table>\n",
       "</div>"
      ],
      "text/plain": [
       "                                        Product Name Brand Name   Price  \\\n",
       "0  \"CLEAR CLEAN ESN\" Sprint EPIC 4G Galaxy SPH-D7...    Samsung  199.99   \n",
       "1  \"CLEAR CLEAN ESN\" Sprint EPIC 4G Galaxy SPH-D7...    Samsung  199.99   \n",
       "2  \"CLEAR CLEAN ESN\" Sprint EPIC 4G Galaxy SPH-D7...    Samsung  199.99   \n",
       "3  \"CLEAR CLEAN ESN\" Sprint EPIC 4G Galaxy SPH-D7...    Samsung  199.99   \n",
       "4  \"CLEAR CLEAN ESN\" Sprint EPIC 4G Galaxy SPH-D7...    Samsung  199.99   \n",
       "\n",
       "   Rating                                            Reviews  Review Votes  \n",
       "0       5  I feel so LUCKY to have found this used (phone...           1.0  \n",
       "1       4  nice phone, nice up grade from my pantach revu...           0.0  \n",
       "2       5                                       Very pleased           0.0  \n",
       "3       4  It works good but it goes slow sometimes but i...           0.0  \n",
       "4       4  Great phone to replace my lost phone. The only...           0.0  "
      ]
     },
     "execution_count": 6,
     "metadata": {},
     "output_type": "execute_result"
    }
   ],
   "source": [
    "#First Five Value\n",
    "data.head()"
   ]
  },
  {
   "cell_type": "code",
   "execution_count": 7,
   "metadata": {},
   "outputs": [
    {
     "name": "stdout",
     "output_type": "stream",
     "text": [
      "<class 'pandas.core.frame.DataFrame'>\n",
      "RangeIndex: 413840 entries, 0 to 413839\n",
      "Data columns (total 6 columns):\n",
      "Product Name    413840 non-null object\n",
      "Brand Name      348669 non-null object\n",
      "Price           407907 non-null float64\n",
      "Rating          413840 non-null int64\n",
      "Reviews         413778 non-null object\n",
      "Review Votes    401544 non-null float64\n",
      "dtypes: float64(2), int64(1), object(3)\n",
      "memory usage: 18.9+ MB\n"
     ]
    }
   ],
   "source": [
    "#Printing the datatype of the column\n",
    "df=data\n",
    "df.info()"
   ]
  },
  {
   "cell_type": "code",
   "execution_count": 8,
   "metadata": {},
   "outputs": [
    {
     "data": {
      "text/html": [
       "<div>\n",
       "<style scoped>\n",
       "    .dataframe tbody tr th:only-of-type {\n",
       "        vertical-align: middle;\n",
       "    }\n",
       "\n",
       "    .dataframe tbody tr th {\n",
       "        vertical-align: top;\n",
       "    }\n",
       "\n",
       "    .dataframe thead th {\n",
       "        text-align: right;\n",
       "    }\n",
       "</style>\n",
       "<table border=\"1\" class=\"dataframe\">\n",
       "  <thead>\n",
       "    <tr style=\"text-align: right;\">\n",
       "      <th></th>\n",
       "      <th>Price</th>\n",
       "      <th>Rating</th>\n",
       "      <th>Review Votes</th>\n",
       "    </tr>\n",
       "  </thead>\n",
       "  <tbody>\n",
       "    <tr>\n",
       "      <th>count</th>\n",
       "      <td>407907.000000</td>\n",
       "      <td>413840.000000</td>\n",
       "      <td>401544.000000</td>\n",
       "    </tr>\n",
       "    <tr>\n",
       "      <th>mean</th>\n",
       "      <td>226.867155</td>\n",
       "      <td>3.819578</td>\n",
       "      <td>1.507237</td>\n",
       "    </tr>\n",
       "    <tr>\n",
       "      <th>std</th>\n",
       "      <td>273.006259</td>\n",
       "      <td>1.548216</td>\n",
       "      <td>9.163853</td>\n",
       "    </tr>\n",
       "    <tr>\n",
       "      <th>min</th>\n",
       "      <td>1.730000</td>\n",
       "      <td>1.000000</td>\n",
       "      <td>0.000000</td>\n",
       "    </tr>\n",
       "    <tr>\n",
       "      <th>25%</th>\n",
       "      <td>79.990000</td>\n",
       "      <td>3.000000</td>\n",
       "      <td>0.000000</td>\n",
       "    </tr>\n",
       "    <tr>\n",
       "      <th>50%</th>\n",
       "      <td>144.710000</td>\n",
       "      <td>5.000000</td>\n",
       "      <td>0.000000</td>\n",
       "    </tr>\n",
       "    <tr>\n",
       "      <th>75%</th>\n",
       "      <td>269.990000</td>\n",
       "      <td>5.000000</td>\n",
       "      <td>1.000000</td>\n",
       "    </tr>\n",
       "    <tr>\n",
       "      <th>max</th>\n",
       "      <td>2598.000000</td>\n",
       "      <td>5.000000</td>\n",
       "      <td>645.000000</td>\n",
       "    </tr>\n",
       "  </tbody>\n",
       "</table>\n",
       "</div>"
      ],
      "text/plain": [
       "               Price         Rating   Review Votes\n",
       "count  407907.000000  413840.000000  401544.000000\n",
       "mean      226.867155       3.819578       1.507237\n",
       "std       273.006259       1.548216       9.163853\n",
       "min         1.730000       1.000000       0.000000\n",
       "25%        79.990000       3.000000       0.000000\n",
       "50%       144.710000       5.000000       0.000000\n",
       "75%       269.990000       5.000000       1.000000\n",
       "max      2598.000000       5.000000     645.000000"
      ]
     },
     "execution_count": 8,
     "metadata": {},
     "output_type": "execute_result"
    }
   ],
   "source": [
    "#Printing the statistical details\n",
    "df.describe()"
   ]
  },
  {
   "cell_type": "code",
   "execution_count": 9,
   "metadata": {},
   "outputs": [],
   "source": [
    "#Taking only the Review and Rating Column\n",
    "df=df[['Reviews','Rating']]"
   ]
  },
  {
   "cell_type": "code",
   "execution_count": 10,
   "metadata": {},
   "outputs": [
    {
     "data": {
      "text/plain": [
       "<bound method NDFrame.head of                                                   Reviews  Rating\n",
       "0       I feel so LUCKY to have found this used (phone...       5\n",
       "1       nice phone, nice up grade from my pantach revu...       4\n",
       "2                                            Very pleased       5\n",
       "3       It works good but it goes slow sometimes but i...       4\n",
       "4       Great phone to replace my lost phone. The only...       4\n",
       "5       I already had a phone with problems... I know ...       1\n",
       "6       The charging port was loose. I got that solder...       2\n",
       "7       Phone looks good but wouldn't stay charged, ha...       2\n",
       "8       I originally was using the Samsung S2 Galaxy f...       5\n",
       "9       It's battery life is great. It's very responsi...       3\n",
       "10      My fiance had this phone previously, but cause...       3\n",
       "11      This is a great product it came after two days...       5\n",
       "12      These guys are the best! I had a little situat...       5\n",
       "13      I'm really disappointed about my phone and ser...       1\n",
       "14      Ordered this phone as a replacement for the sa...       5\n",
       "15      Had this phone before and loved it but was not...       2\n",
       "16      I was able to get the phone I previously owned...       5\n",
       "17      I brought this phone as a replacement for my d...       5\n",
       "18      I love the phone. It does everything I need an...       4\n",
       "19      unfortunately Sprint could not activate the ph...       3\n",
       "20      The battery was old & had been over used becau...       4\n",
       "21      pros-beautiful screen,capable of running chrom...       4\n",
       "22      I purchased this phone in December as a christ...       1\n",
       "23      Phone good just a little slow phone old but it...       4\n",
       "24      Phone's speaker little low. Overall very happy...       4\n",
       "25      the phone was great and in good condition. My ...       5\n",
       "26      the reasons for the 3 star rating was it was i...       3\n",
       "27                  Phone works great. No problems at all       5\n",
       "28           was not in good condition but does work good       1\n",
       "29      Just... not good. The phone has great screen r...       1\n",
       "...                                                   ...     ...\n",
       "413810  I purchased the Samsung Convoy U640 for my eld...       4\n",
       "413811  My husband wanted rugged pho?ne for work. He i...       5\n",
       "413812  I never bought from Amazon before , but I real...       5\n",
       "413813  Iv'e never quite got used to the iphone and dr...       4\n",
       "413814  This is by far the best flip phone out there. ...       5\n",
       "413815  This phone is simple, very good , and it works...       5\n",
       "413816  Good sturdy phone for a pre-teen to have avail...       4\n",
       "413817  This is the second junk Convoy I have owned. T...       1\n",
       "413818  This cell phone provides the just the service ...       3\n",
       "413819  I BOUGHT THIS PHONE FOR MY HUSBAND AND HE LOVE...       5\n",
       "413820  They said phone was normal wear but it was a l...       1\n",
       "413821  You could shoot this out of a potato gun, and ...       5\n",
       "413822  Bought this for my mother and she loves it. Gr...       5\n",
       "413823  Excellent phone, as advertised. Love the push-...       5\n",
       "413824  works great and picks up signal in place my ot...       4\n",
       "413825  Great phone. Large keys, best flip phone I hav...       5\n",
       "413826  Pros...Works great, very durable, easy to navi...       5\n",
       "413827            just as described perfect for the price       5\n",
       "413828                                     Would not work       1\n",
       "413829   Speaker phone doesn't work, but phone works good       3\n",
       "413830                                            LOVE IT       5\n",
       "413831  Item was listed as new, but was not. When we t...       1\n",
       "413832  good rugged phone that has a long-lasting batt...       4\n",
       "413833                                  The phone is good       3\n",
       "413834                                          used hard       1\n",
       "413835                     another great deal great price       5\n",
       "413836                                                 Ok       3\n",
       "413837        Passes every drop test onto porcelain tile!       5\n",
       "413838  I returned it because it did not meet my needs...       3\n",
       "413839  Only downside is that apparently Verizon no lo...       4\n",
       "\n",
       "[413840 rows x 2 columns]>"
      ]
     },
     "execution_count": 10,
     "metadata": {},
     "output_type": "execute_result"
    }
   ],
   "source": [
    "df.head"
   ]
  },
  {
   "cell_type": "code",
   "execution_count": 11,
   "metadata": {},
   "outputs": [
    {
     "name": "stdout",
     "output_type": "stream",
     "text": [
      "<class 'pandas.core.frame.DataFrame'>\n",
      "RangeIndex: 413840 entries, 0 to 413839\n",
      "Data columns (total 2 columns):\n",
      "Reviews    413778 non-null object\n",
      "Rating     413840 non-null int64\n",
      "dtypes: int64(1), object(1)\n",
      "memory usage: 6.3+ MB\n"
     ]
    }
   ],
   "source": [
    "#Printing the datatype of the column\n",
    "df.info()"
   ]
  },
  {
   "cell_type": "code",
   "execution_count": 12,
   "metadata": {},
   "outputs": [
    {
     "name": "stdout",
     "output_type": "stream",
     "text": [
      "<class 'pandas.core.frame.DataFrame'>\n",
      "Int64Index: 413778 entries, 0 to 413839\n",
      "Data columns (total 2 columns):\n",
      "Reviews    413778 non-null object\n",
      "Rating     413778 non-null int64\n",
      "dtypes: int64(1), object(1)\n",
      "memory usage: 9.5+ MB\n"
     ]
    }
   ],
   "source": [
    "#Removing the NaN Rows and Column\n",
    "df=df.dropna()\n",
    "df.info()"
   ]
  },
  {
   "cell_type": "code",
   "execution_count": 13,
   "metadata": {},
   "outputs": [
    {
     "name": "stdout",
     "output_type": "stream",
     "text": [
      "<class 'pandas.core.frame.DataFrame'>\n",
      "Int64Index: 382015 entries, 0 to 413839\n",
      "Data columns (total 2 columns):\n",
      "Reviews    382015 non-null object\n",
      "Rating     382015 non-null int64\n",
      "dtypes: int64(1), object(1)\n",
      "memory usage: 8.7+ MB\n"
     ]
    }
   ],
   "source": [
    "#Removing the row that has the Rating 3 as it is the neutral Sentiment\n",
    "df=df[df['Rating']!=3]\n",
    "df.info()"
   ]
  },
  {
   "cell_type": "code",
   "execution_count": 14,
   "metadata": {},
   "outputs": [
    {
     "name": "stdout",
     "output_type": "stream",
     "text": [
      "<class 'pandas.core.frame.DataFrame'>\n",
      "RangeIndex: 382015 entries, 0 to 382014\n",
      "Data columns (total 2 columns):\n",
      "Reviews    382015 non-null object\n",
      "Rating     382015 non-null int64\n",
      "dtypes: int64(1), object(1)\n",
      "memory usage: 5.8+ MB\n"
     ]
    }
   ],
   "source": [
    "df=df.reset_index(drop=True)\n",
    "df.info()"
   ]
  },
  {
   "cell_type": "code",
   "execution_count": 15,
   "metadata": {},
   "outputs": [
    {
     "name": "stdout",
     "output_type": "stream",
     "text": [
      "<class 'pandas.core.frame.DataFrame'>\n",
      "RangeIndex: 382015 entries, 0 to 382014\n",
      "Data columns (total 3 columns):\n",
      "Reviews      382015 non-null object\n",
      "Rating       382015 non-null int64\n",
      "sentiment    382015 non-null int32\n",
      "dtypes: int32(1), int64(1), object(1)\n",
      "memory usage: 7.3+ MB\n"
     ]
    }
   ],
   "source": [
    "#Here we have Created the Sentiment Column and we have to put the value 1 if rating greater than 3 and ratings 0 if less than 3.\n",
    "df['sentiment']=np.where(df['Rating'] > 3, 1, 0)\n",
    "df.info()"
   ]
  },
  {
   "cell_type": "code",
   "execution_count": 16,
   "metadata": {},
   "outputs": [],
   "source": [
    "#cleaning the dataset \n",
    "#stopword are is am the and etc\n",
    "#punction are added as to remove the stopwords and the punctuation from the text\n",
    "Cstopwords=set(stopwords.words('english')+list(punctuation))"
   ]
  },
  {
   "cell_type": "code",
   "execution_count": 17,
   "metadata": {},
   "outputs": [],
   "source": [
    "#Gives the  root word\n",
    "lemma=WordNetLemmatizer()"
   ]
  },
  {
   "cell_type": "code",
   "execution_count": 18,
   "metadata": {},
   "outputs": [],
   "source": [
    "#Defining the Function to Clean the review\n",
    "def clean_review(review_column):\n",
    "    review_corpus=[]\n",
    "    for i in range(0, len(review_column)):\n",
    "        review=review_column[i]\n",
    "        #want ro keep the \n",
    "        review=re.sub('[^a-zA-Z]',' ',review)\n",
    "        #Convert it to string and convert it to lower case\n",
    "        review=str(review).lower()\n",
    "        #seperate every word\n",
    "        review=word_tokenize(review)\n",
    "        #storing the root word\n",
    "        review=[lemma.lemmatize(w) for w in review ]\n",
    "        #joining the white space and storing it on the review\n",
    "        review=' '.join(review)\n",
    "        #Storing the review data on the clean_corpus\n",
    "        review_corpus.append(review)\n",
    "    return review_corpus"
   ]
  },
  {
   "cell_type": "code",
   "execution_count": 19,
   "metadata": {},
   "outputs": [],
   "source": [
    "#taking the value of the  df and storing.\n",
    "review_column=df['Reviews']"
   ]
  },
  {
   "cell_type": "code",
   "execution_count": 20,
   "metadata": {},
   "outputs": [],
   "source": [
    "#sending the argument(revie column) to the clean_review()  \n",
    "review_corpus=clean_review(review_column)"
   ]
  },
  {
   "cell_type": "code",
   "execution_count": 21,
   "metadata": {},
   "outputs": [
    {
     "data": {
      "text/html": [
       "<div>\n",
       "<style scoped>\n",
       "    .dataframe tbody tr th:only-of-type {\n",
       "        vertical-align: middle;\n",
       "    }\n",
       "\n",
       "    .dataframe tbody tr th {\n",
       "        vertical-align: top;\n",
       "    }\n",
       "\n",
       "    .dataframe thead th {\n",
       "        text-align: right;\n",
       "    }\n",
       "</style>\n",
       "<table border=\"1\" class=\"dataframe\">\n",
       "  <thead>\n",
       "    <tr style=\"text-align: right;\">\n",
       "      <th></th>\n",
       "      <th>Reviews</th>\n",
       "      <th>Rating</th>\n",
       "      <th>sentiment</th>\n",
       "      <th>clean_review</th>\n",
       "    </tr>\n",
       "  </thead>\n",
       "  <tbody>\n",
       "    <tr>\n",
       "      <th>382010</th>\n",
       "      <td>good rugged phone that has a long-lasting batt...</td>\n",
       "      <td>4</td>\n",
       "      <td>1</td>\n",
       "      <td>good rugged phone that ha a long lasting batte...</td>\n",
       "    </tr>\n",
       "    <tr>\n",
       "      <th>382011</th>\n",
       "      <td>used hard</td>\n",
       "      <td>1</td>\n",
       "      <td>0</td>\n",
       "      <td>used hard</td>\n",
       "    </tr>\n",
       "    <tr>\n",
       "      <th>382012</th>\n",
       "      <td>another great deal great price</td>\n",
       "      <td>5</td>\n",
       "      <td>1</td>\n",
       "      <td>another great deal great price</td>\n",
       "    </tr>\n",
       "    <tr>\n",
       "      <th>382013</th>\n",
       "      <td>Passes every drop test onto porcelain tile!</td>\n",
       "      <td>5</td>\n",
       "      <td>1</td>\n",
       "      <td>pass every drop test onto porcelain tile</td>\n",
       "    </tr>\n",
       "    <tr>\n",
       "      <th>382014</th>\n",
       "      <td>Only downside is that apparently Verizon no lo...</td>\n",
       "      <td>4</td>\n",
       "      <td>1</td>\n",
       "      <td>only downside is that apparently verizon no lo...</td>\n",
       "    </tr>\n",
       "  </tbody>\n",
       "</table>\n",
       "</div>"
      ],
      "text/plain": [
       "                                                  Reviews  Rating  sentiment  \\\n",
       "382010  good rugged phone that has a long-lasting batt...       4          1   \n",
       "382011                                          used hard       1          0   \n",
       "382012                     another great deal great price       5          1   \n",
       "382013        Passes every drop test onto porcelain tile!       5          1   \n",
       "382014  Only downside is that apparently Verizon no lo...       4          1   \n",
       "\n",
       "                                             clean_review  \n",
       "382010  good rugged phone that ha a long lasting batte...  \n",
       "382011                                          used hard  \n",
       "382012                     another great deal great price  \n",
       "382013           pass every drop test onto porcelain tile  \n",
       "382014  only downside is that apparently verizon no lo...  "
      ]
     },
     "execution_count": 21,
     "metadata": {},
     "output_type": "execute_result"
    }
   ],
   "source": [
    "#making new column in the df and storing it to the clean_review column\n",
    "df['clean_review']=review_corpus\n",
    "df.tail()"
   ]
  },
  {
   "cell_type": "code",
   "execution_count": 22,
   "metadata": {},
   "outputs": [
    {
     "data": {
      "text/plain": [
       "(382015, 20000)"
      ]
     },
     "execution_count": 22,
     "metadata": {},
     "output_type": "execute_result"
    }
   ],
   "source": [
    "#create a bag of words max_features is the word  min_df means ignore the term that appear less than 5 percent in the document ng_gram means it will contain minmum 1 and maximum 2 word in a senstence\n",
    "cv=CountVectorizer(max_features=20000,min_df=5,ngram_range=(1,2))\n",
    "#Storing it to the X1\n",
    "X1=cv.fit_transform(df['clean_review'])\n",
    "#Print the dimension of the array\n",
    "X1.shape"
   ]
  },
  {
   "cell_type": "code",
   "execution_count": 23,
   "metadata": {},
   "outputs": [
    {
     "name": "stdout",
     "output_type": "stream",
     "text": [
      "0         i feel so lucky to have found this used phone ...\n",
      "1         nice phone nice up grade from my pantach revue...\n",
      "2                                              very pleased\n",
      "3         it work good but it go slow sometimes but it a...\n",
      "4         great phone to replace my lost phone the only ...\n",
      "5         i already had a phone with problem i know it s...\n",
      "6         the charging port wa loose i got that soldered...\n",
      "7         phone look good but wouldn t stay charged had ...\n",
      "8         i originally wa using the samsung s galaxy for...\n",
      "9         this is a great product it came after two day ...\n",
      "10        these guy are the best i had a little situatio...\n",
      "11        i m really disappointed about my phone and ser...\n",
      "12        ordered this phone a a replacement for the sam...\n",
      "13        had this phone before and loved it but wa not ...\n",
      "14        i wa able to get the phone i previously owned ...\n",
      "15        i brought this phone a a replacement for my da...\n",
      "16        i love the phone it doe everything i need and ...\n",
      "17        the battery wa old had been over used because ...\n",
      "18        pro beautiful screen capable of running chrome...\n",
      "19        i purchased this phone in december a a christm...\n",
      "20        phone good just a little slow phone old but it...\n",
      "21        phone s speaker little low overall very happy ...\n",
      "22        the phone wa great and in good condition my da...\n",
      "23                       phone work great no problem at all\n",
      "24               wa not in good condition but doe work good\n",
      "25        just not good the phone ha great screen resolu...\n",
      "26                                    a described fast ship\n",
      "27                                     perfect in every way\n",
      "28        one of the phone have a bad charger port i wan...\n",
      "29        just got this phone and it is a great phone it...\n",
      "                                ...                        \n",
      "381985    first phone did not work i called them and the...\n",
      "381986    great phone for the person who need to make ca...\n",
      "381987    i purchased this phone on upon receiving this ...\n",
      "381988    the phone wa decent and came a expected howeve...\n",
      "381989    i like this phone for the larger button for te...\n",
      "381990    i purchased the samsung convoy u for my elderl...\n",
      "381991    my husband wanted rugged pho ne for work he is...\n",
      "381992    i never bought from amazon before but i really...\n",
      "381993    iv e never quite got used to the iphone and dr...\n",
      "381994    this is by far the best flip phone out there m...\n",
      "381995    this phone is simple very good and it work exc...\n",
      "381996    good sturdy phone for a pre teen to have avail...\n",
      "381997    this is the second junk convoy i have owned th...\n",
      "381998    i bought this phone for my husband and he love...\n",
      "381999    they said phone wa normal wear but it wa a lie...\n",
      "382000    you could shoot this out of a potato gun and p...\n",
      "382001    bought this for my mother and she love it grea...\n",
      "382002    excellent phone a advertised love the push to ...\n",
      "382003    work great and pick up signal in place my othe...\n",
      "382004    great phone large key best flip phone i have o...\n",
      "382005    pro work great very durable easy to navigate s...\n",
      "382006               just a described perfect for the price\n",
      "382007                                       would not work\n",
      "382008                                              love it\n",
      "382009    item wa listed a new but wa not when we tried ...\n",
      "382010    good rugged phone that ha a long lasting batte...\n",
      "382011                                            used hard\n",
      "382012                       another great deal great price\n",
      "382013             pass every drop test onto porcelain tile\n",
      "382014    only downside is that apparently verizon no lo...\n",
      "Name: clean_review, Length: 382015, dtype: object\n"
     ]
    }
   ],
   "source": [
    "print(df['clean_review'])"
   ]
  },
  {
   "cell_type": "code",
   "execution_count": 24,
   "metadata": {},
   "outputs": [
    {
     "name": "stdout",
     "output_type": "stream",
     "text": [
      "  (0, 19947)\t0.06867839370678101\n",
      "  (0, 19834)\t0.049633832159609134\n",
      "  (0, 19799)\t0.10529254355048036\n",
      "  (0, 19797)\t0.07356584384736188\n",
      "  (0, 19697)\t0.05663879009287084\n",
      "  (0, 19138)\t0.07894124360907383\n",
      "  (0, 18776)\t0.07710511247287204\n",
      "  (0, 18654)\t0.1351945519010737\n",
      "  (0, 18653)\t0.07108481245100842\n",
      "  (0, 18239)\t0.0449991961826796\n",
      "  (0, 18108)\t0.18729277287194954\n",
      "  (0, 18094)\t0.13946111730652627\n",
      "  (0, 17990)\t0.1064252613337285\n",
      "  (0, 17980)\t0.08941580108764781\n",
      "  (0, 17339)\t0.11991693837456786\n",
      "  (0, 17270)\t0.08299514619835606\n",
      "  (0, 17129)\t0.058311210372695675\n",
      "  (0, 16953)\t0.14395657528590275\n",
      "  (0, 16934)\t0.0973412423288398\n",
      "  (0, 16911)\t0.08139136364159605\n",
      "  (0, 16832)\t0.07501701071785949\n",
      "  (0, 16610)\t0.12672927307870027\n",
      "  (0, 16608)\t0.07299836454687054\n",
      "  (0, 15728)\t0.044374720771756665\n",
      "  (0, 15716)\t0.08344067186478418\n",
      "  :\t:\n",
      "  (382012, 6477)\t0.2829396020731201\n",
      "  (382012, 3984)\t0.32606945430654727\n",
      "  (382012, 1233)\t0.5953948194958951\n",
      "  (382012, 1226)\t0.29224362986948443\n",
      "  (382013, 17048)\t0.5524879671305546\n",
      "  (382013, 15637)\t0.44040982514528837\n",
      "  (382013, 11624)\t0.48440448293706445\n",
      "  (382013, 4900)\t0.3345048407660295\n",
      "  (382013, 4560)\t0.39275315467353306\n",
      "  (382014, 19302)\t0.10603001190549971\n",
      "  (382014, 18209)\t0.22383972078202685\n",
      "  (382014, 18005)\t0.26818686414607645\n",
      "  (382014, 15728)\t0.11774104422381729\n",
      "  (382014, 11569)\t0.3279085376582366\n",
      "  (382014, 11550)\t0.1484893523198092\n",
      "  (382014, 10663)\t0.27414638671610997\n",
      "  (382014, 10622)\t0.13696143669439806\n",
      "  (382014, 10142)\t0.23148790817154222\n",
      "  (382014, 9292)\t0.24277277820016777\n",
      "  (382014, 8109)\t0.21915833435738394\n",
      "  (382014, 7841)\t0.09288615804132117\n",
      "  (382014, 4541)\t0.337864051644543\n",
      "  (382014, 4540)\t0.3002499632728927\n",
      "  (382014, 3147)\t0.4094144763707837\n",
      "  (382014, 1344)\t0.2971071127187353\n"
     ]
    }
   ],
   "source": [
    "#Increase the importance of the word which are more rare \n",
    "tfidf=TfidfVectorizer(min_df=5, max_df=0.95, max_features = 20000, ngram_range = ( 1, 2 ),\n",
    "                              sublinear_tf = True)\n",
    "#Applying the tfdif to the clean_review.\n",
    "tfidf=tfidf.fit(df['clean_review'])\n",
    "\n",
    "#Storing it in the X2\n",
    "X2=tfidf.transform(df['clean_review'])\n",
    "X2.shape\n",
    "print(X2)"
   ]
  },
  {
   "cell_type": "code",
   "execution_count": 25,
   "metadata": {},
   "outputs": [
    {
     "data": {
      "text/plain": [
       "(382015,)"
      ]
     },
     "execution_count": 25,
     "metadata": {},
     "output_type": "execute_result"
    }
   ],
   "source": [
    "#Storing the value of sentiment of df column to the y greater than 3 assign 1 amd less than 3 assign 0\n",
    "y=df['sentiment'].values\n",
    "y.shape"
   ]
  },
  {
   "cell_type": "code",
   "execution_count": 26,
   "metadata": {},
   "outputs": [],
   "source": [
    "#Machine Learning Implementation \n",
    "\n",
    "# storing the tfidf value X2 to the X\n",
    "X=X2"
   ]
  },
  {
   "cell_type": "code",
   "execution_count": 27,
   "metadata": {},
   "outputs": [],
   "source": [
    "X_train, X_test, y_train, y_test = train_test_split(X, y, test_size=0.2, random_state=0)"
   ]
  },
  {
   "cell_type": "code",
   "execution_count": 35,
   "metadata": {},
   "outputs": [],
   "source": [
    "#Logistic Regression\n",
    "model_lr=lr(random_state=0)\n",
    "model_lr=lr(penalty='l2',C=1.0,random_state=0)\n",
    "model_lr.fit(X_train,y_train)\n",
    "#pridicting the result by giving the input X_test\n",
    "y_pred_lr=model_lr.predict(X_test)"
   ]
  },
  {
   "cell_type": "code",
   "execution_count": 36,
   "metadata": {},
   "outputs": [
    {
     "data": {
      "text/plain": [
       "array([1, 1, 0, ..., 1, 1, 1])"
      ]
     },
     "execution_count": 36,
     "metadata": {},
     "output_type": "execute_result"
    }
   ],
   "source": [
    "y_pred_lr"
   ]
  },
  {
   "cell_type": "code",
   "execution_count": 37,
   "metadata": {},
   "outputs": [
    {
     "data": {
      "text/plain": [
       "array([[17833,  1632],\n",
       "       [ 1245, 55693]], dtype=int64)"
      ]
     },
     "execution_count": 37,
     "metadata": {},
     "output_type": "execute_result"
    }
   ],
   "source": [
    "# Printing the Confusion Matrix\n",
    "cm = confusion_matrix(y_test, y_pred_lr)\n",
    "cm"
   ]
  },
  {
   "cell_type": "code",
   "execution_count": 38,
   "metadata": {},
   "outputs": [
    {
     "name": "stdout",
     "output_type": "stream",
     "text": [
      "F1 score for Logistic Regression : 0.9748212457225874\n",
      "Precision score for Logistic Regression : 0.9715307457479285\n",
      "recall score for Logistic Regression : 0.978134110787172\n",
      "AUC:  0.9471456580136735\n"
     ]
    }
   ],
   "source": [
    "print('F1 score for Logistic Regression :',f1_score(y_test,y_pred_lr))\n",
    "print('Precision score for Logistic Regression :',precision_score(y_test,y_pred_lr))\n",
    "print('recall score for Logistic Regression :',recall_score(y_test,y_pred_lr))\n",
    "print('AUC: ', roc_auc_score(y_test, y_pred_lr))"
   ]
  },
  {
   "cell_type": "code",
   "execution_count": 39,
   "metadata": {},
   "outputs": [
    {
     "name": "stdout",
     "output_type": "stream",
     "text": [
      "Smallest Coefs:\n",
      "['not' 'worst' 'disappointed' 'not happy' 'poor' 'terrible' 'doesn'\n",
      " 'horrible' 'useless' 'return']\n",
      "\n",
      "Largest Coefs: \n",
      "['great' 'love' 'excellent' 'perfect' 'no problem' 'amazing' 'awesome'\n",
      " 'best' 'love this' 'not bad']\n"
     ]
    }
   ],
   "source": [
    "# get the feature names as numpy array\n",
    "feature_names = np.array(cv.get_feature_names())\n",
    "\n",
    "# Sort the coefficients from the model\n",
    "sorted_coef_index = model_lr.coef_[0].argsort()\n",
    "\n",
    "# Find the 10 smallest and 10 largest coefficients\n",
    "# The 10 largest coefficients are being indexed using [:-11:-1] \n",
    "# so the list returned is in order of largest to smallest\n",
    "print('Smallest Coefs:\\n{}\\n'.format(feature_names[sorted_coef_index[:10]]))\n",
    "print('Largest Coefs: \\n{}'.format(feature_names[sorted_coef_index[:-11:-1]]))"
   ]
  },
  {
   "cell_type": "code",
   "execution_count": 40,
   "metadata": {},
   "outputs": [
    {
     "name": "stdout",
     "output_type": "stream",
     "text": [
      "accuracy for Naive Bayes Classifier : 0.9368480295276364\n",
      "confusion matrix for Naive Bayes Classifier:\n",
      " [[16687  2778]\n",
      " [ 2047 54891]]\n",
      "F1 score for Logistic Regression : 0.9578996047361854\n",
      "Precision score for Logistic Regression : 0.9518285387296468\n",
      "recall score for Logistic Regression : 0.9640486142822017\n",
      "AUC:  0.9106654579245582\n"
     ]
    }
   ],
   "source": [
    "#NAIVE BAYES\n",
    "from sklearn.naive_bayes import MultinomialNB\n",
    "model_nb=MultinomialNB()\n",
    "model_nb.fit(X_train,y_train)\n",
    "y_pred_nb=model_nb.predict(X_test)\n",
    "print('accuracy for Naive Bayes Classifier :',accuracy_score(y_test,y_pred_nb))\n",
    "print('confusion matrix for Naive Bayes Classifier:\\n',confusion_matrix(y_test,y_pred_nb))\n",
    "print('F1 score for Logistic Regression :',f1_score(y_test,y_pred_nb))\n",
    "print('Precision score for Logistic Regression :',precision_score(y_test,y_pred_nb))\n",
    "print('recall score for Logistic Regression :',recall_score(y_test,y_pred_nb))\n",
    "print('AUC: ', roc_auc_score(y_test, y_pred_nb))"
   ]
  },
  {
   "cell_type": "code",
   "execution_count": 41,
   "metadata": {},
   "outputs": [
    {
     "name": "stdout",
     "output_type": "stream",
     "text": [
      "accuracy for Random Forest Classifier : 0.9704854521419316\n",
      "confusion matrix for Random Forest Classifier:\n",
      " [[18279  1186]\n",
      " [ 1069 55869]]\n"
     ]
    }
   ],
   "source": [
    "#RANDOM FOREST\n",
    "from sklearn.ensemble import RandomForestClassifier\n",
    "model_rf=RandomForestClassifier()\n",
    "model_rf.fit(X_train,y_train)\n",
    "y_pred_rf=model_rf.predict(X_test)\n",
    "print('accuracy for Random Forest Classifier :',accuracy_score(y_test,y_pred_rf))\n",
    "print('confusion matrix for Random Forest Classifier:\\n',confusion_matrix(y_test,y_pred_rf))"
   ]
  }
 ],
 "metadata": {
  "kernelspec": {
   "display_name": "Python 3",
   "language": "python",
   "name": "python3"
  },
  "language_info": {
   "codemirror_mode": {
    "name": "ipython",
    "version": 3
   },
   "file_extension": ".py",
   "mimetype": "text/x-python",
   "name": "python",
   "nbconvert_exporter": "python",
   "pygments_lexer": "ipython3",
   "version": "3.6.5"
  }
 },
 "nbformat": 4,
 "nbformat_minor": 2
}
